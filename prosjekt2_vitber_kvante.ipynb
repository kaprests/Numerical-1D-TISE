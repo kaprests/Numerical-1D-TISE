{
 "cells": [
  {
   "cell_type": "markdown",
   "metadata": {},
   "source": [
    "<H1>Numerisk løsning av den tidsuavhengig Schrödingerligningen</H1>\n",
    "\n",
    "<p>Notatboken og tilhørende kildekode ligger på <a href=\"https://github.com/kaprests/Numerical-1D-TISE\">GitHub.</a></p>\n",
    "\n",
    "<H2>Gruppe 21: Henrik E. V. Skaldebø og Knut Andre G. Prestsveen</H2>\n",
    "\n",
    "<H2>Sammendrag</H2>\n",
    "Denne notatboken prosjekt nummer to i faget TMA4320, og øving i faget TFY4215 ved Norges tekniske og naturvitenskapelige universitet. Den undersøker enkle, endimensjonale, kvantemekaniske modeller for atomer, molekyler og krystaller med ikke-vekselvirkende elektroner, og finner stasjonære løsninger av den tidsuavhengige schrödingerligninen (TUSL) for hver av modellene.\n",
    "\n",
    "<H2>Introduksjon</H2>\n",
    "Omkring alle atomer, er det et potensiale som elektronene befinner seg i, og dette potensialet modelleres med én endelig potensialbrønn med bredde $\\omega$ og dybde $V_0$, omgitt av potensialet $V = 0$. Molekyler og krystaller modelleres ved å sette sammen flere enkeltbrønner, sepparert av små barrierer med bredde $\\omega/5$ med potensialet $V = 0$. Mer presist er brønnpotensialet\n",
    "\n",
    "$$\n",
    "V = \\begin{cases}\n",
    "        V_0 & \\text{, $\\mid x \\mid \\leq \\omega/2$}\\\\\n",
    "        0 & \\text{, ellers}\n",
    "    \\end{cases}\n",
    "$$\n",
    "\n",
    "for en brønn sentrert om $x = 0$.\n",
    "\n",
    "<h3>Numerisk løsning av (1D) TUSL</h3>\n",
    "TUSL i en dimensjon er\n",
    "\n",
    "$$\n",
    "- \\frac{\\hbar^2}{2m} \\frac{d^2\\psi(x)}{dx^2} + V(x)\\psi(x) = E\\psi(x).\n",
    "$$\n",
    "\n",
    "De stasjonære løsningene innholder energiegenfunksjonene, som sammen med tilhørende egenverdier løser TUSL, og for hvert energinivå er det plass til to elektroner, ett med spinn opp og ett med spinn ned, i følge Pauliprinsippet.\n",
    "\n",
    "Med unntak av hydrogenatomet har en dog ikke analytiske løsninger av TUSL, og det benyttes derfor her en numeriske løsningsmetode. For å forenkle probleme yttligere taes det utgangspunkt i bokspotensialet utgangspunkt i bokspotensialet, altså at partikkelen kun kan oppholde seg på et endelig område langs x-aksen, avgrenset av harde vegger (uendelig potensiale) i endepunktene $x=0$ og $x=L$. Partikkelens posisjon på dette området diskretiseres i $N$ mulige verdier, slik at løsningene går fra $\\psi(x)$ til $\\psi(n\\Delta x)$, hvor $n = 0, 1, 2, ... , N, N+1$. I endepunktene er bølgefunskjonen null på grunn av kontinuitet i overgangen ved veggene, siden bølgefunksjonen må være null der potensialet er uendelig. Med diskret posisjon og operatorer kan TUSL da skrives som de $N$ differanseligningene\n",
    "\n",
    "$$\n",
    "- \\frac{\\hbar^2}{2m} \\frac{\\psi_{n+1}-2\\psi_n+\\psi_{n-1}}{(\\Delta x)^2} + V_n\\psi_n = E\\psi_n.\n",
    "$$\n",
    "\n",
    "Som igjen kan skrives på matriseform\n",
    "\n",
    "$$\n",
    "\\mathbf{H}\\vec{\\psi} = E\\vec{\\psi},\n",
    "$$\n",
    "\n",
    "hvor $\\mathbf{H}$ er en $NxN$ matrise med diagonalelementer \n",
    "\n",
    "$$H_{nn} = \\frac{\\hbar^2}{m(\\Delta x)^2} + V_n, \\quad n = 1, 2, 3,..., N,$$\n",
    "\n",
    "elementer over og under diagonalen\n",
    "\n",
    "$$H_{n, n\\pm1} = - \\frac{\\hbar^2}{2m(\\Delta x)^2} \\quad n = 1, 2, 3,..., N, $$\n",
    "\n",
    "og $E$ er energi-/egenverdier. Denne egenverdiligningen har ikke-trivielle løsninger kun når $\\text{det}(\\mathbf{H}-E)=0$, hvor $I$ er identitetsmatrisen. $E\\mathbf{I}$ er da en $NxN$ matrise med energiverdiene langs diagonalen, og poenget er at de numeriske løsningene for bølgefunksjonene og energinivåene er gitt av hhv. egenvektorene og egenverdiene til $\\mathbf{H}$-matrisen.\n",
    "\n",
    "\n",
    "\n"
   ]
  },
  {
   "cell_type": "code",
   "execution_count": 2,
   "metadata": {},
   "outputs": [],
   "source": [
    "import numpy as np\n",
    "from matplotlib import pyplot as plt\n",
    "from scipy.optimize import fsolve\n",
    "from scipy.constants import hbar, m_e, eV\n",
    "from scipy.linalg import eigh_tridiagonal\n",
    "\n",
    "hbar *=1e9 #Plancks constant, scaled for nm as recomended by mr. MAN ;)\n",
    "L_well = 0.5 #nm - length/width of each potential well\n",
    "V0 = 10 #eV - depth of the wells\n",
    "n_well = 20 # number of datapoints per well\n",
    "n_bar = 4 # number of datapoints per barrer -> barrier width = 0.5/5 nm\n",
    "fact = (hbar**2)/(m_e*eV) # precalculated factor to lessen float operations\n",
    "\n",
    "\n",
    "# Constructs a potential with num_w number of wells\n",
    "def potential(num_w, V0=-V0):\n",
    "    V1 = np.array([[V0]*n_well + [0]*n_bar]).flatten() # one well with barrier to the right\n",
    "    V_mid = np.tile(V1, num_w) \n",
    "    V_front = np.zeros(n_well*10)\n",
    "    V_back = np.zeros(n_well*10 - n_bar)\n",
    "    V = np.append(V_front, V_mid)\n",
    "    V = np.append(V, V_back)\n",
    "    well_voids = max(num_w -1, 0)\n",
    "    L = num_w*L_well + well_voids*n_bar*(L_well/n_well) + 20*L_well\n",
    "    return V, L # returns the final potential and length of the system\n",
    "\n",
    "\n",
    "# Calculates eigenenergies and eigenvector(wave functions)\n",
    "def analyze(num_w, add_E_lvls = 0):\n",
    "\tV, L = potential(num_w)\n",
    "\tn = len(V)\n",
    "\tdelta_x = L/(n+1)\n",
    "\tx_vec = np.linspace(0, L, n)\n",
    "\tif num_w == 0:\n",
    "\t\tnum_E_lvls = 3 + add_E_lvls\n",
    "\telse:\n",
    "\t\tnum_E_lvls = 3*num_w + add_E_lvls\n",
    "\t\n",
    "\tmain_diag = np.ones(n) * fact/(delta_x**2) + V\n",
    "\toff_diag = np.ones(n-1) * -fact/(2*delta_x**2)\n",
    "\n",
    "\tenergies, wave_funcs = eigh_tridiagonal(main_diag, off_diag)\n",
    "\twave_funcs = wave_funcs.T\n",
    "\n",
    "\treturn energies, wave_funcs, x_vec, num_E_lvls, L, V\n",
    "\n",
    "\n",
    "def plot_well_wave_funcs(num_w, add_E_lvls=0, start_E_lvl=0, end_E_lvl=0):\n",
    "    energies, wave_funcs, x_vec, n_E_lvls, L, V = analyze(num_w, add_E_lvls)\n",
    "    if end_E_lvl == 0:\n",
    "        end_E_lvl = n_E_lvls\n",
    "    scale = V0\n",
    "    if num_w == 0:\n",
    "        scale = 1\n",
    "    for i in range(start_E_lvl, end_E_lvl):\n",
    "        plt.plot([0,L], [energies[i]]*2)\n",
    "        plt.plot(x_vec, V)\n",
    "        plt.plot(x_vec, energies[i] + wave_funcs[i]*scale)\n",
    "    #plt.savefig(\"figW\" + str(num_w) + \"E\" + str(iter_lim) + \".pdf\")\n",
    "    plt.show()\n",
    "    \n",
    "# Code for task 4.\n",
    "# Computes and plots bandwiths of the three bound energy levels for num. of wells from lower to upper.\n",
    "def band_widths(lower, upper):\n",
    "\tx_vec = np.linspace(lower, upper, upper-lower)\n",
    "\tband_widths = np.zeros([3, upper - lower])\n",
    "\tfor i in range(lower, upper):\n",
    "\t\tenergies,_,_,_,_,_ = analyze(i)\n",
    "\t\tfor j in range(3):\n",
    "\t\t\tband_widths[j][i - lower] = np.absolute(energies[i*j] - energies[(j+1)*i -1])\n",
    "\n",
    "\tfor i in range(3):\n",
    "\t\tplt.plot(x_vec, band_widths[i])\n",
    "\t#plt.savefig(\"bw.pdf\")\n",
    "\tplt.show()"
   ]
  },
  {
   "cell_type": "markdown",
   "metadata": {},
   "source": [
    "### Oppgave 1 - Partikkel i boks\n",
    "    \n",
    "For å teste algoritmen, undersøkes først en uendelig dyp potensialbrønn med potensial $V(x)=0$ for $0<x<L$. Også betegnet som en partikkel i boks, hvor potensialet er uendelig utenfor og 0 innenfor boksen. Den tidsuavhengige schrödingerligningen har følgende analytiske funksjoner for en slik potensialbrønn\n",
    "\n",
    "$$\\psi_j (x) = \\sqrt{2/L}\\sin k_jx$$\n",
    "\n",
    "med egenenerginivå\n",
    "\n",
    "$$E_j = \\frac{\\hbar^2 k_j^2}{2m}$$\n",
    "\n",
    "Både $\\psi_j$ og $E_j$ bruker bølgetallene $k_j$, med $j = 1, 2, 3...$\n",
    "\n",
    "$$k_j = \\frac{j \\pi}{L}$$\n",
    "\n",
    "Koden i den følgende cellen beregner disse analytiske løsningene, plotter og lagrer dem i en pdf."
   ]
  },
  {
   "cell_type": "code",
   "execution_count": 3,
   "metadata": {},
   "outputs": [],
   "source": [
    "#analytisk løsning\n",
    "\n",
    "L = 10 #nm\n",
    "n = 100\n",
    "k_j = np.pi/L\n",
    "energy_factor = (hbar**2)/(2*m_e)\n",
    "x = np.linspace(0, L, n)\n",
    "scale = 0.01 #for å skalere bølgefunksjonene\n",
    "\n",
    "def wave_func(j, x):\n",
    "    return np.sqrt(2/L)*np.sin(k_j*j*x)\n",
    "\n",
    "def plot_analytic(levels):\n",
    "    for j in range(1, levels+1):\n",
    "        energy = energy_factor*((k_j*j)**2)/eV\n",
    "        plt.plot([0, L], [energy]*2)\n",
    "        plt.plot([0, L], [0]*2) #potensialnivået ved V=0\n",
    "        plt.plot(x, energy + wave_func(j, x)*scale)\n",
    "    plt.xlabel(\"Width (nm)\")\n",
    "    plt.ylabel(\"Energy (eV)\")\n",
    "    plt.title(\"Analytical - Wells: 0, Energy-levels: \" + str(levels))\n",
    "    #plt.savefig(\"analyticW0E\" + str(levels) + \".pdf\")\n",
    "    plt.show()"
   ]
  },
  {
   "cell_type": "markdown",
   "metadata": {},
   "source": [
    "Figuren nedenfor viser de analytiske løsningene, funnet ved <font color=blue>plot_analytic()</font> for tre nivå, samt de numeriske, ved <font color=blue>plot_well_wave_funcs()</font> for ingen brønner. Amplituden for de analytiske bølgefunksjonene er vanligvis $\\sqrt{2/L}$, men er her skalert ned for å samsvare bedre med de numeriske løsningene. Energinivåene fra de numeriske løsningene stemmer her meget bra med det analytiske resultatet. Ved å se på bølgefunksjonene som korresponderer med hvert energinivå stemmer også dette ettersom kurvene har samme antall ekstremalpunkt Grunnen til at vi ved tredje energinivå får forskjellig antall maksima/minima kommer av at scipy-funksjonen <font color=blue>eigh_tridiagonal()</font> ikke nødvendigvis ser forskjell på de to tilfellene(blir det riktig å si?? :o )."
   ]
  },
  {
   "cell_type": "markdown",
   "metadata": {},
   "source": [
    "![title](oppg1comparison.png)"
   ]
  },
  {
   "cell_type": "markdown",
   "metadata": {},
   "source": [
    "Det finnes kun en egenfunksjon for hver egenenergiverdi som tilsier at funksjonene er ortogonale. Dette kommer også av at vi kun ser på endimensjonale situasjoner som betyr at energiegenverdiene ikke kan være degenererte, det vil si at flere egenfunksjoner svarer til én egenverdi.\n",
    "\n",
    "For at bølgefunksjonene skal være normerte må de oppfylle\n",
    "$$\n",
    "\\sum_{n=1}^{N} |{\\psi^{(j)}}|^2 = 1 \\quad ; \\quad j = 1, 2, ..., N.\n",
    "$$\n",
    "\n",
    "I skriptet under hentes bølgefunksjonene ved <font color=blue>analyze()</font>, summerer hver egenfunksjon i henhold til uttrykket over og printer den største samt den minste summen. Her kommer det dermed frem at alle verdiene ligger svært nærme 1 som tilsier at funksjonene våre er normerte. "
   ]
  },
  {
   "cell_type": "code",
   "execution_count": 4,
   "metadata": {},
   "outputs": [
    {
     "name": "stdout",
     "output_type": "stream",
     "text": [
      "1.0000000000000018\n",
      "0.9999999999999983\n"
     ]
    }
   ],
   "source": [
    "_, w_f, _, _, _, _ = analyze(3) #henter ut bølgefunksjonene\n",
    "\n",
    "w_f = np.absolute(w_f)**2 #opphøyer alle elementene i matrisen med\n",
    "\n",
    "w_f_sum = np.sum(w_f, axis=1) #summerer alle elementene i hver bølgefunksjon\n",
    "\n",
    "print(np.max(w_f_sum))\n",
    "print(np.min(w_f_sum))"
   ]
  },
  {
   "cell_type": "markdown",
   "metadata": {},
   "source": [
    "### Oppgave 2 - Atomer\n",
    "\n",
    "Nå ser vi på modeller som inneholder potensiallbrønner og kan beskrive atomer, molekyler og krystaller. Funksjonene vi bruker for å beregne og plotte energinivå med tilsvarende bølgefunksjoner har en input-parameter for antall potensialbrønner det skal ses på. Forrige oppgave så vi kun på et enkelt potensial lik 0, mens fra nå av vil vi undersøke bokspotensialet med endelige potensialbrønner som har negativt potensial. Funksjonene er også definert slik at ved inklusjon av brønner vil det være et område lik 10 brønnbredder på begge sider av brønnen slik at det er god avstand til de harde veggene. Ved tilfeller av flere brønner vil det legges til en liten barriere mellom brønnene.\n",
    "\n",
    "Én brønn vil kunne kvalitativt vise hvordan elektronene oppfører seg i et enkeltatom, med både diskrete bundne tilstander og et kontinuerlig spektrum av frie elektroner.  \n",
    "\n",
    "a)<br/>\n",
    "Det endelige brønnpotensialet er på forhånd definert, V_0=-10 eV, slik at vi får tre bundne tilstander. Ved det klassisk tillate området, dvs E>V(x), som i dette tilfellet blir inne i brønnen, noterer vi oss oppførselen til bølgene. For annenhvert energinivå skal bølgefunksjonene være symmetriske og antisymmetriske. I figuren vist nedenfor kan en se at grunntilstanden er symmetrisk, andre tilstand antisymmetrisk og tredje symmetrisk igjen, Nice ;)!\n",
    "\n",
    "I det klassiske tillate området vil bølgefunksjonene tilnærmet følge den analytiske løsningen\n",
    "\n",
    "$$\\psi_j (x) = \\sqrt{2/L}\\sin k_jx$$\n",
    "\n",
    "med bølgetallene\n",
    "\n",
    "$$k_j  = \\frac{j \\pi}{L} = \\frac{2\\pi}{\\lambda}, \\quad j = 1, 2, 3...$$\n",
    "\n",
    "bølgelengden vil dermed kunne skrives som \n",
    "\n",
    "$$ \\lambda = \\frac{2}{j}L .$$.\n",
    "\n",
    "Dette betyr at i det klassisk tillate området er bølgelengden omvendt proporsjonalt med kvantetallet $j$. I de tre bundne tilstandende våre kan en dermed observere at bølgelengdene for hvert energinivå tilsvarer omtrent $2L$, $L$ og $\\frac{2}{3} L$.\n",
    "\n",
    "En siste egenskap verdt å nevne er krumningen til bølgefunksjonene i det klassiske tillate området. Utifra Schrödingers tidsuavhengige ligning har vi\n",
    "\n",
    "$$\n",
    "- \\frac{\\hbar^2}{2m} \\frac{\\partial^2 \\psi(x)}{\\partial x^2} = [E-V(x)]\\psi(x) \n",
    "$$\n",
    "\n",
    "$$\\text{dvs.}$$\n",
    "\n",
    "$$ \n",
    "\\frac{d^2\\psi/dx^2}{\\psi} = \\frac{2m}{\\hbar^2}[V(x)-E],\n",
    "$$\n",
    "\n",
    "Krumningen $d^2\\psi/dx^2$, for E>V(x), vil være negativ når $\\psi$ er positiv, og omvendt. Det betyr at den relative krumningen $\\psi''/\\psi$ alltid er negativ og bølgen vil alltid krumme mot x-aksen. Ved klassiske forbudte områder vil det motsatte være tilfelle som gir oss bildet vi ser på de numeriske plottede bølgene under. Innenfor brønnen krummer bølgene seg mot aksen, i vårt tilfelle mot energinivået ettersom egenfunksjonene er skalert etter dem, og utenfor brønnen krummer bølgene seg vekk fra aksen og nærmer seg fort null. Dette tyder på det er meget lite sannsynlighet for at elektronet oppholder seg i det klassiske forbudte området langt unna brønnen, men det er fortsatt en viss sannsynlighet for at den kan oppholde seg i umiddelbar nærhet av brønnveggen. "
   ]
  },
  {
   "cell_type": "code",
   "execution_count": 5,
   "metadata": {},
   "outputs": [
    {
     "data": {
      "image/png": "[encoded data removed]",
      "text/plain": [
       "<Figure size 432x288 with 1 Axes>"
      ]
     },
     "metadata": {
      "needs_background": "light"
     },
     "output_type": "display_data"
    }
   ],
   "source": [
    "plot_well_wave_funcs(1)"
   ]
  },
  {
   "cell_type": "markdown",
   "metadata": {},
   "source": [
    "For å finne analytiske beregnede energinivåer for potensialet med en brønn brukes den transcendentale funksjonen beskrevet i Griffiths\n",
    "\n",
    "$$\n",
    "\\tan{z} = \\sqrt{(z_0/z)^2 - 1}\n",
    "$$\n",
    "\n",
    "$z$ er her en funksjon av energien $E$ gitt av\n",
    "\n",
    "$$\n",
    "z = \\frac{\\sqrt{2m(E+V_0}}{\\hbar}a,\n",
    "$$\n",
    "\n",
    "hvor $a$ er halvparten av brønnbredden. $z_0$ er et mål på størrelsen av brønnen og er gitt som \n",
    "\n",
    "$$\n",
    "z_0 = \\frac{a}{\\hbar} \\sqrt{2 m V_0}.\n",
    "$$\n",
    "\n",
    "For å beregne energinivåene analytisk brukes følgende plott:"
   ]
  },
  {
   "cell_type": "code",
   "execution_count": 6,
   "metadata": {},
   "outputs": [
    {
     "name": "stdout",
     "output_type": "stream",
     "text": [
      "Energi #1:  -9.038957100851231\n",
      "Energi #2:  -6.244717176021442\n",
      "Energi #3:  -2.049505532565955\n",
      "Num energies:  -9.043560659888897\n",
      "Num energies:  -6.268381845422539\n",
      "Num energies:  -2.104781711697484\n"
     ]
    },
    {
     "data": {
      "image/png": "[encoded data removed]",
      "text/plain": [
       "<Figure size 432x288 with 1 Axes>"
      ]
     },
     "metadata": {
      "needs_background": "light"
     },
     "output_type": "display_data"
    }
   ],
   "source": [
    "# Numerically computes the energies from the analytic solutions of TISE and prints them\n",
    "def trancendent_sol():\n",
    "\ta = L_well/2\n",
    "\t\n",
    "\tz0 = (a/hbar)*np.sqrt(2*m_e*V0*eV)\n",
    "\t\n",
    "\tRS = lambda z : np.sqrt((z0/z)**2 -1)\n",
    "\tRS_asym = lambda z : -1/(np.sqrt((z0/z)**2 -1))\n",
    "\tLS = lambda z : np.tan(z)\n",
    "\n",
    "\tz_tan = np.linspace(0.1,4.5, 1000)\n",
    "\tz = np.linspace(0.1,4.05, 1000)\n",
    "\tfor i in range(len(z_tan)):\n",
    "\t\tif np.absolute(LS(z_tan[i])) > 9:\n",
    "\t\t\tz_tan[i] = np.nan\n",
    "\n",
    "\tf = lambda z : RS(z) - LS(z)\n",
    "\tf_asym = lambda z : RS_asym(z) - LS(z)\n",
    "\t\n",
    "\tz_zeros = np.array([1.2, 3.5])\n",
    "\tz_zeros = fsolve(f, z_zeros)\n",
    "\n",
    "\tz_zeros_asym = 2\n",
    "\tz_zeros_asym = fsolve(f_asym, z_zeros_asym)\n",
    "\t\n",
    "\tz_zeros = np.array([z_zeros[0], z_zeros_asym[0], z_zeros[1]])\n",
    "\n",
    "\tE = lambda z : ((z*hbar)**2)/((a**2)*2*m_e*eV) - V0 # Okay, still not perf. div by a**2 arbitrarily to get the energies to match, but someone should figure this out later.\n",
    "\tfor i in range(len(z_zeros)):\n",
    "\t\tprint(\"Energi #\" + str(i+1) + \": \", E(z_zeros[i]))\n",
    "\n",
    "\tenergies,_,_,_,_,_ = analyze(1)\n",
    "\tfor i in range(3):\n",
    "\t\tprint(\"Num energies: \", energies[i])\n",
    "\n",
    "\tplt.ylim(-5, 5)\n",
    "\tplt.plot(z_tan, LS(z_tan))\n",
    "\tplt.plot(z, RS(z))\n",
    "\tplt.plot(z, RS_asym(z))\n",
    "\t#plt.savefig(\"trancend_plot.pdf\")\n",
    "\tplt.show()\n",
    "\t\n",
    "\t#return z_zeros\n",
    "    \n",
    "trancendent_sol()"
   ]
  },
  {
   "cell_type": "markdown",
   "metadata": {},
   "source": [
    "Skjæringspunktene mellom $\\tan{z}$ (de blå linjene) og $\\sqrt{(z_0/z)^2 - 1}$ viser for hvilke $z$ det eksisterer et energinivå som dermed kan løses for $E$. Skriptet over printer også ut både de analytiske og numeriske egenenergiverdiene som stemmer meget bra.\n",
    "\n",
    "Ved å legge til flere energinivå i den siste input-parameteren til <font color=blue>plot_well_wave_funcs()</font> kan de ubundne tilstandene undersøkes. \n"
   ]
  },
  {
   "cell_type": "code",
   "execution_count": 7,
   "metadata": {},
   "outputs": [
    {
     "data": {
      "image/png": "[encoded data removed]",
      "text/plain": [
       "<Figure size 432x288 with 1 Axes>"
      ]
     },
     "metadata": {
      "needs_background": "light"
     },
     "output_type": "display_data"
    },
    {
     "data": {
      "image/png": "[encoded data removed]",
      "text/plain": [
       "<Figure size 432x288 with 1 Axes>"
      ]
     },
     "metadata": {
      "needs_background": "light"
     },
     "output_type": "display_data"
    }
   ],
   "source": [
    "plot_well_wave_funcs(1, 12)\n",
    "plot_well_wave_funcs(1, 12, 15, 16)"
   ]
  },
  {
   "cell_type": "markdown",
   "metadata": {},
   "source": [
    "Det første plottet viser 12 ekstra energinivå som danner et \"kvasikontinuerlig\" spektrum av ubundne tilstander for $E>0$. I det neste plottet ser vi kun på den øverste av disse energinivåene. Ved inspeksjon kommer det frem at bølgelengden er mindre innenfor brønnområdet enn utenfor. Impulsen til elektronet kan ved de Broglie-bølgelengden skrives som\n",
    "$$\n",
    "p = \\frac{2 \\pi \\hbar}{\\lambda},\n",
    "$$\n",
    "\n",
    "og dette viser at elektronets kinetiske energi burde være lavere innenfor brønnen enn utenfor. Dette samsvarer med at elektronets kinetiske energi er lavere ved negativ potensiell energi.\n",
    "\n",
    "b)\n",
    "\n",
    "For tre bundne tilstander vil det være mulig å fylle orbitalene med opptil seks elektroner som betyr at atom med atomnummer 1 til 6 er aktuelle med tre bundne tilstander. I grunntilstanden til hvert atom med partall antall elektroner, slik som helium og karbon, vil elektronspinnet til atomet være null. Ved odde antall elektroner, som i hydrogen og lithium, blir elektronspinnet $S = \\frac{\\sqrt{3}}{2}\\hbar$.\n",
    "\n"
   ]
  },
  {
   "cell_type": "markdown",
   "metadata": {},
   "source": [
    "<h2>Oppgave 3 - Molekyler</h2>\n",
    "\n",
    "\n"
   ]
  },
  {
   "cell_type": "markdown",
   "metadata": {},
   "source": [
    "Som det ble nevnt innledningsvis, modellerer vi potensialet for molekyler ved å sette sammen flere endelige enkeltbrønner inne i et bokspotensial, vi ser her på homonukleære, toatomige molekyler, og som for atommodellen er det et $10\\omega$ bredt område med nullpotensiale på hver side av brønnene. Bredde og dybde for brønnene, samt barrierebredden, er også som før.\n",
    "\n",
    "Under plottes potensialene med både en og to brønner, med tilhørende energinivåer og bølgefunksjoner."
   ]
  },
  {
   "cell_type": "code",
   "execution_count": null,
   "metadata": {},
   "outputs": [],
   "source": [
    "# Plots wave functions and possible energy levels for one and two wells\n",
    "plot_well_wave_funcs(2)\n",
    "plot_well_wave_funcs(1)"
   ]
  },
  {
   "cell_type": "markdown",
   "metadata": {},
   "source": [
    "Bindingsenergien er differansen mellom elektronenes energi i et molekyl og i frie enkeltatomer. For helium forventer vi en negativ bindingsenergi, siden helium naturlig forekommer som $H_2$ molekyler, og \"ønsker\" å binde seg. Grunnen til dette er at en for toatomige molekyler får to energinivåer per bundne tilstand, et med litt lavere og et med litt høyere energi enn grunnenergien for enkeltatomet. Disse to nivåene kalles henholdsvis bindende og antibindene orbitaler, og siden det i henhold til Paulis ekslusjonsprinsipp er plass til to elektroner per tilstand med en gitt energi, har $H_2$-molekyler begge sine elektroner i den bindende oribitalen, altså i lavere energitilstand enn enkle $H$-atomer.\n",
    "\n",
    "Helium derimot forventes å ha en positiv bindingsenergi, siden det er en edelgass og ikke har lett for å danne bindinger med andre atomer. $He_2$-molekyler har fire elektroner fordelt på laveste bindende og antibindende orbital, og siden differansen mellom grunnenergien til atomet og antibindende orbital er større enn til bindende orbital, vil $He_2$-molekyler ha høyrere energi enn frie $He$ atomer.\n",
    "\n",
    "Koden i cellen under regner ut bindingsenergiene for modellene våre for $H_2$ og $He_2$. Resultatet viser at vi får negative verdier for begge bindingsenergiene, og vi ser at bindingsenergien for helium er høyere enn for hydrogen, men den er fremdeles negativ. Det antyder at helium naturlig vil binde seg i molekyler, uten energitilførsel, som strider med ovenevnt teori, og det tyder på at modellen vår trolig ikke er presis nok og at energinivåene ikke plasseres helt korrekt."
   ]
  },
  {
   "cell_type": "code",
   "execution_count": null,
   "metadata": {},
   "outputs": [],
   "source": [
    "# Calculates and prints the binding energy of H2 and He2\n",
    "\n",
    "# H2\n",
    "energies_H2_well,_,_,_,_,_ = analyze(4)\n",
    "energies_H_well,_,_,_,_,_ = analyze(2)\n",
    "bind_energy_H2 = (2*energies_H2_well[0] - 2*energies_H_well[0])\n",
    "\n",
    "# He2\n",
    "energies_He2_well,_,_,_,_,_ = analyze(2)\n",
    "energies_He_well,_,_,_,_,_ = analyze(1)\n",
    "bind_energy_He2 = (2*energies_He2_well[0] + 2*energies_He2_well[1] - 4*energies_He_well[0])\n",
    "\n",
    "print(\"Energi H2: \", energies_H2_well[0])\n",
    "print(\"Energi 2H: \", energies_H_well[0])\n",
    "print(\"Bindingsenergi: \", bind_energy_H2)\n",
    "print(\"\")\n",
    "print(\"Energi He2: \", energies_He2_well[0])\n",
    "print(\"Energi 2He: \", energies_He_well[0])\n",
    "print(\"Bindingsenergi: \", bind_energy_He2)"
   ]
  },
  {
   "cell_type": "markdown",
   "metadata": {},
   "source": [
    "<h2>Oppgave 4 - Krystaller</h2>\n",
    "\n"
   ]
  },
  {
   "cell_type": "markdown",
   "metadata": {},
   "source": [
    "På samme måte som vi modelerte toatomige molekyler ved å sette sammen to potensialbrønner, kan vi kvalitativt modellere krystaller ved å sette sammen et stort antall brønner. Vi betegner antall brønner med $w_{\\omega}$, og størrelsen på brønnene, barrierene og området rundt er det samme som før.\n",
    "\n",
    "Med to brønner observerte vi at det ble to bundne tilstander for hvert enkelt atom. Vi tester med litt ulike verdier av $N_{\\omega}$, og i alle tilfellene er antall tilstander for hver av de tre bundne tilstandene i enkeltatomet lik antall brønner. Nedenfor plottes det med fem og ti brønner."
   ]
  },
  {
   "cell_type": "code",
   "execution_count": null,
   "metadata": {},
   "outputs": [],
   "source": [
    "plot_well_wave_funcs(5)\n",
    "plot_well_wave_funcs(10)"
   ]
  },
  {
   "cell_type": "markdown",
   "metadata": {},
   "source": [
    "Vi ser at båndbredden til energiene også øker med antall brønner, men at tilstandene ligger vesentlig tettere med ti brønner enn med fem. Det tyder på at båndbredden vokser med avtakende hastighet, og at den mulig vil konvergere mot en fast verdi for store $N_{\\omega}$\n",
    "\n",
    "Nedenfor plottes det for et utvalg $N_{\\omega}$, og under plottes båndbredden som funksjon av antall brønner, hvor $N_{\\omega}$ går fra og med to til hundre."
   ]
  },
  {
   "cell_type": "code",
   "execution_count": null,
   "metadata": {},
   "outputs": [],
   "source": [
    "plot_well_wave_funcs(20)\n",
    "plot_well_wave_funcs(50)\n",
    "plot_well_wave_funcs(75)\n",
    "band_widths(2,50)"
   ]
  },
  {
   "cell_type": "markdown",
   "metadata": {},
   "source": [
    "Vi ser av plottene at energinivåene etter hvert for stort nok antall brønner ligger helt tett samlet, og det siste plottet viser at bredden på brønbreddene tydelig konvergerer. Det vil si at en for store $N_{\\omega}$ får tilnærmet kontinuerlige energibånd omkring de tre bundne tilstandene for et atom.\n",
    "\n",
    "Videre ser vi på en krystall modellert med 50 brønner, og vi anter at hvert atom har fire elektroner hver. Det vil si at krystallen har $4*N_{\\omega}$ elektroner totalt, som opptar de $2*N_{\\omega}$ (pauliprinsippet) tilstandene med lavest energi ved tilstrekkelig lav temperatur. Dette tilsvarer at de to nederste båndene er helt fylt, og energien til de to elektronene med høyest energi tilsvarer den høyeste energien i det andre båndet. Avstanden mellom denne energien og neste tilgjengelige enerinivå er derfor avstanden mellom energibånd to og tre, altså krystallens båndgap.\n",
    "\n",
    "Nedenfor finner vi energien til de øverste elektronene for krystallmodellen vår, samt båndgapet."
   ]
  },
  {
   "cell_type": "code",
   "execution_count": null,
   "metadata": {},
   "outputs": [],
   "source": [
    "energies_crstl, wave_funcs_crstl, x_vec,_,_,_ = analyze(50)\n",
    "print(\"Energien til øverste elektron: \", energies_crstl[99]) \n",
    "print(\"Båndgap: \", energies_crstl[100] - energies_crstl[99])\n"
   ]
  },
  {
   "cell_type": "markdown",
   "metadata": {},
   "source": [
    "Kjører vi koden i cellen over ser vi at båndgapet er på ca. $2.6 eV$, som betyr at denne krystallen er en halvleder (båndgap større enn null, men mindre enn ca. 2 til 3 eV).\\cite{STÆVNERN}"
   ]
  },
  {
   "cell_type": "markdown",
   "metadata": {},
   "source": [
    "### Blochs teorem\n",
    "\n",
    "(...)\n",
    "\n",
    "Når vi skal se om bølge funksjonen følger Blochs teorem er det upraktisk med så mange som 50 brønner, og vi ser derfor nå heller på en modell med 10 brønner."
   ]
  },
  {
   "cell_type": "code",
   "execution_count": null,
   "metadata": {},
   "outputs": [],
   "source": [
    "plot_well_wave_funcs(10, 0, 0, 3)"
   ]
  },
  {
   "cell_type": "markdown",
   "metadata": {},
   "source": [
    "Brønnpotensialet har en periodisitet lik brønnbredden pluss barrierebredden, $\\omega + \\omega/5 = 0.6 nm$.1"
   ]
  }
 ],
 "metadata": {
  "kernelspec": {
   "display_name": "Python 3",
   "language": "python",
   "name": "python3"
  },
  "language_info": {
   "codemirror_mode": {
    "name": "ipython",
    "version": 3
   },
   "file_extension": ".py",
   "mimetype": "text/x-python",
   "name": "python",
   "nbconvert_exporter": "python",
   "pygments_lexer": "ipython3",
   "version": "3.7.1"
  }
 },
 "nbformat": 4,
 "nbformat_minor": 2
}
