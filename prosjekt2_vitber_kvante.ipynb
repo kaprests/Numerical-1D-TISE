{
 "cells": [
  {
   "cell_type": "markdown",
   "metadata": {},
   "source": [
    "<H1>Numerisk løsning av den tidsuavhengig Scrødingerligningen</H1>"
   ]
  }
 ],
 "metadata": {
  "language_info": {
   "name": "python",
   "pygments_lexer": "ipython3"
  }
 },
 "nbformat": 4,
 "nbformat_minor": 2
}
